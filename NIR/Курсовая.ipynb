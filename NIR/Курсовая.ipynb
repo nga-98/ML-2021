{
 "cells": [
  {
   "cell_type": "code",
   "execution_count": 2,
   "id": "polished-quantity",
   "metadata": {},
   "outputs": [],
   "source": [
    "import numpy as np\n",
    "import pandas as pd\n",
    "import seaborn as sns \n",
    "import matplotlib.pyplot as plt "
   ]
  },
  {
   "cell_type": "code",
   "execution_count": 17,
   "id": "brutal-haven",
   "metadata": {},
   "outputs": [],
   "source": [
    "from typing import Dict, Tuple\n",
    "from scipy import stats\n",
    "from sklearn.feature_extraction.text import CountVectorizer, TfidfVectorizer\n",
    "from sklearn.neighbors import KNeighborsRegressor, KNeighborsClassifier\n",
    "from sklearn.model_selection import GridSearchCV, RandomizedSearchCV\n",
    "from sklearn.metrics import confusion_matrix\n",
    "from sklearn.metrics.pairwise import cosine_similarity, euclidean_distances, manhattan_distances\n",
    "from surprise import SVD, Dataset, Reader\n",
    "from matplotlib_venn import venn2\n",
    "%matplotlib inline \n",
    "sns.set(style=\"ticks\")"
   ]
  },
  {
   "cell_type": "code",
   "execution_count": 3,
   "id": "toxic-alpha",
   "metadata": {},
   "outputs": [],
   "source": [
    "data=pd.read_csv('ITService.csv', sep=\",\")"
   ]
  },
  {
   "cell_type": "code",
   "execution_count": 4,
   "id": "parallel-grade",
   "metadata": {},
   "outputs": [
    {
     "data": {
      "text/plain": [
       "(51, 7)"
      ]
     },
     "execution_count": 4,
     "metadata": {},
     "output_type": "execute_result"
    }
   ],
   "source": [
    "#размер датасета\n",
    "data.shape"
   ]
  },
  {
   "cell_type": "code",
   "execution_count": 45,
   "id": "united-evans",
   "metadata": {},
   "outputs": [
    {
     "data": {
      "text/html": [
       "<div>\n",
       "<style scoped>\n",
       "    .dataframe tbody tr th:only-of-type {\n",
       "        vertical-align: middle;\n",
       "    }\n",
       "\n",
       "    .dataframe tbody tr th {\n",
       "        vertical-align: top;\n",
       "    }\n",
       "\n",
       "    .dataframe thead th {\n",
       "        text-align: right;\n",
       "    }\n",
       "</style>\n",
       "<table border=\"1\" class=\"dataframe\">\n",
       "  <thead>\n",
       "    <tr style=\"text-align: right;\">\n",
       "      <th></th>\n",
       "      <th>id</th>\n",
       "      <th>ServiceName</th>\n",
       "      <th>ServiceDescription</th>\n",
       "      <th>ServicePrice</th>\n",
       "      <th>ServiceType</th>\n",
       "      <th>Time</th>\n",
       "      <th>Guarantee</th>\n",
       "    </tr>\n",
       "  </thead>\n",
       "  <tbody>\n",
       "    <tr>\n",
       "      <th>0</th>\n",
       "      <td>1</td>\n",
       "      <td>Рекомендации по работе на компьютере</td>\n",
       "      <td>Рекомендации по безопасной работе в сети Интернет</td>\n",
       "      <td>2,000.00</td>\n",
       "      <td>Рекомендации</td>\n",
       "      <td>3</td>\n",
       "      <td>0</td>\n",
       "    </tr>\n",
       "    <tr>\n",
       "      <th>1</th>\n",
       "      <td>2</td>\n",
       "      <td>Рекомендации по работе на смартфоне</td>\n",
       "      <td>Рекомендации по безопасной работе в сети Интернет</td>\n",
       "      <td>2,000.00</td>\n",
       "      <td>Рекомендации</td>\n",
       "      <td>3</td>\n",
       "      <td>0</td>\n",
       "    </tr>\n",
       "    <tr>\n",
       "      <th>2</th>\n",
       "      <td>3</td>\n",
       "      <td>Рекомендации по работе на планшете</td>\n",
       "      <td>Рекомендации по безопасной работе в сети Интернет</td>\n",
       "      <td>2,000.00</td>\n",
       "      <td>Рекомендации</td>\n",
       "      <td>3</td>\n",
       "      <td>0</td>\n",
       "    </tr>\n",
       "    <tr>\n",
       "      <th>3</th>\n",
       "      <td>4</td>\n",
       "      <td>Рекомендации по созданию и хранению безопасных...</td>\n",
       "      <td>Подбор рекомендаций с учётом ситуации</td>\n",
       "      <td>2,000.00</td>\n",
       "      <td>Рекомендации</td>\n",
       "      <td>3</td>\n",
       "      <td>0</td>\n",
       "    </tr>\n",
       "    <tr>\n",
       "      <th>4</th>\n",
       "      <td>5</td>\n",
       "      <td>Рекомендации по обновлению железа</td>\n",
       "      <td>Подбор рекомендаций с учётом ситуации</td>\n",
       "      <td>2,000.00</td>\n",
       "      <td>Рекомендации</td>\n",
       "      <td>3</td>\n",
       "      <td>0</td>\n",
       "    </tr>\n",
       "  </tbody>\n",
       "</table>\n",
       "</div>"
      ],
      "text/plain": [
       "   id                                        ServiceName  \\\n",
       "0   1               Рекомендации по работе на компьютере   \n",
       "1   2                Рекомендации по работе на смартфоне   \n",
       "2   3                 Рекомендации по работе на планшете   \n",
       "3   4  Рекомендации по созданию и хранению безопасных...   \n",
       "4   5                  Рекомендации по обновлению железа   \n",
       "\n",
       "                                  ServiceDescription ServicePrice  \\\n",
       "0  Рекомендации по безопасной работе в сети Интернет     2,000.00   \n",
       "1  Рекомендации по безопасной работе в сети Интернет     2,000.00   \n",
       "2  Рекомендации по безопасной работе в сети Интернет     2,000.00   \n",
       "3              Подбор рекомендаций с учётом ситуации     2,000.00   \n",
       "4              Подбор рекомендаций с учётом ситуации     2,000.00   \n",
       "\n",
       "    ServiceType  Time  Guarantee  \n",
       "0  Рекомендации     3          0  \n",
       "1  Рекомендации     3          0  \n",
       "2  Рекомендации     3          0  \n",
       "3  Рекомендации     3          0  \n",
       "4  Рекомендации     3          0  "
      ]
     },
     "execution_count": 45,
     "metadata": {},
     "output_type": "execute_result"
    }
   ],
   "source": [
    "data.head()"
   ]
  },
  {
   "cell_type": "code",
   "execution_count": 46,
   "id": "extra-silicon",
   "metadata": {},
   "outputs": [
    {
     "data": {
      "text/html": [
       "<div>\n",
       "<style scoped>\n",
       "    .dataframe tbody tr th:only-of-type {\n",
       "        vertical-align: middle;\n",
       "    }\n",
       "\n",
       "    .dataframe tbody tr th {\n",
       "        vertical-align: top;\n",
       "    }\n",
       "\n",
       "    .dataframe thead th {\n",
       "        text-align: right;\n",
       "    }\n",
       "</style>\n",
       "<table border=\"1\" class=\"dataframe\">\n",
       "  <thead>\n",
       "    <tr style=\"text-align: right;\">\n",
       "      <th></th>\n",
       "      <th>id</th>\n",
       "      <th>Time</th>\n",
       "      <th>Guarantee</th>\n",
       "    </tr>\n",
       "  </thead>\n",
       "  <tbody>\n",
       "    <tr>\n",
       "      <th>count</th>\n",
       "      <td>51.000000</td>\n",
       "      <td>51.000000</td>\n",
       "      <td>51.000000</td>\n",
       "    </tr>\n",
       "    <tr>\n",
       "      <th>mean</th>\n",
       "      <td>26.000000</td>\n",
       "      <td>19.529412</td>\n",
       "      <td>78.235294</td>\n",
       "    </tr>\n",
       "    <tr>\n",
       "      <th>std</th>\n",
       "      <td>14.866069</td>\n",
       "      <td>19.639097</td>\n",
       "      <td>65.198340</td>\n",
       "    </tr>\n",
       "    <tr>\n",
       "      <th>min</th>\n",
       "      <td>1.000000</td>\n",
       "      <td>3.000000</td>\n",
       "      <td>0.000000</td>\n",
       "    </tr>\n",
       "    <tr>\n",
       "      <th>25%</th>\n",
       "      <td>13.500000</td>\n",
       "      <td>7.000000</td>\n",
       "      <td>30.000000</td>\n",
       "    </tr>\n",
       "    <tr>\n",
       "      <th>50%</th>\n",
       "      <td>26.000000</td>\n",
       "      <td>14.000000</td>\n",
       "      <td>60.000000</td>\n",
       "    </tr>\n",
       "    <tr>\n",
       "      <th>75%</th>\n",
       "      <td>38.500000</td>\n",
       "      <td>21.000000</td>\n",
       "      <td>150.000000</td>\n",
       "    </tr>\n",
       "    <tr>\n",
       "      <th>max</th>\n",
       "      <td>51.000000</td>\n",
       "      <td>60.000000</td>\n",
       "      <td>180.000000</td>\n",
       "    </tr>\n",
       "  </tbody>\n",
       "</table>\n",
       "</div>"
      ],
      "text/plain": [
       "              id       Time   Guarantee\n",
       "count  51.000000  51.000000   51.000000\n",
       "mean   26.000000  19.529412   78.235294\n",
       "std    14.866069  19.639097   65.198340\n",
       "min     1.000000   3.000000    0.000000\n",
       "25%    13.500000   7.000000   30.000000\n",
       "50%    26.000000  14.000000   60.000000\n",
       "75%    38.500000  21.000000  150.000000\n",
       "max    51.000000  60.000000  180.000000"
      ]
     },
     "execution_count": 46,
     "metadata": {},
     "output_type": "execute_result"
    }
   ],
   "source": [
    "# Основные статистические характеристки набора данных\n",
    "data.describe()"
   ]
  },
  {
   "cell_type": "code",
   "execution_count": 48,
   "id": "optimum-dispatch",
   "metadata": {},
   "outputs": [
    {
     "data": {
      "text/plain": [
       "<AxesSubplot:xlabel='ServiceType', ylabel='count'>"
      ]
     },
     "execution_count": 48,
     "metadata": {},
     "output_type": "execute_result"
    },
    {
     "data": {
      "image/png": "[encoded data removed]",
      "text/plain": [
       "<Figure size 720x720 with 1 Axes>"
      ]
     },
     "metadata": {},
     "output_type": "display_data"
    }
   ],
   "source": [
    "plt.figure(figsize=(10,10))\n",
    "sns.countplot(x=\"ServiceType\", data=data)"
   ]
  },
  {
   "cell_type": "code",
   "execution_count": 49,
   "id": "instructional-sunrise",
   "metadata": {},
   "outputs": [
    {
     "data": {
      "text/plain": [
       "<StemContainer object of 3 artists>"
      ]
     },
     "execution_count": 49,
     "metadata": {},
     "output_type": "execute_result"
    },
    {
     "data": {
      "image/png": "[encoded data removed]",
      "text/plain": [
       "<Figure size 720x720 with 1 Axes>"
      ]
     },
     "metadata": {},
     "output_type": "display_data"
    }
   ],
   "source": [
    "plt.figure(figsize=(10,10))\n",
    "plt.stem(data['ServiceType'], data['ServicePrice'])"
   ]
  },
  {
   "cell_type": "code",
   "execution_count": 52,
   "id": "ethical-constitution",
   "metadata": {},
   "outputs": [
    {
     "data": {
      "text/plain": [
       "<AxesSubplot:xlabel='ServiceType', ylabel='Time'>"
      ]
     },
     "execution_count": 52,
     "metadata": {},
     "output_type": "execute_result"
    },
    {
     "data": {
      "image/png": "[encoded data removed]",
      "text/plain": [
       "<Figure size 720x360 with 1 Axes>"
      ]
     },
     "metadata": {},
     "output_type": "display_data"
    }
   ],
   "source": [
    "plt.figure(figsize=(10,5))\n",
    "x=data['ServiceType']\n",
    "\n",
    "y=data['Time']\n",
    "\n",
    "sns.violinplot(x, y)"
   ]
  },
  {
   "cell_type": "code",
   "execution_count": 7,
   "id": "behind-nickel",
   "metadata": {},
   "outputs": [
    {
     "data": {
      "text/plain": [
       "id                    0\n",
       "ServiceName           0\n",
       "ServiceDescription    0\n",
       "ServicePrice          0\n",
       "ServiceType           0\n",
       "Time                  0\n",
       "Guarantee             0\n",
       "dtype: int64"
      ]
     },
     "execution_count": 7,
     "metadata": {},
     "output_type": "execute_result"
    }
   ],
   "source": [
    "# Колонки с пропусками\n",
    "data.isnull().sum()"
   ]
  },
  {
   "cell_type": "code",
   "execution_count": 8,
   "id": "broadband-testament",
   "metadata": {},
   "outputs": [
    {
     "data": {
      "text/plain": [
       "id                     int64\n",
       "ServiceName           object\n",
       "ServiceDescription    object\n",
       "ServicePrice          object\n",
       "ServiceType           object\n",
       "Time                   int64\n",
       "Guarantee              int64\n",
       "dtype: object"
      ]
     },
     "execution_count": 8,
     "metadata": {},
     "output_type": "execute_result"
    }
   ],
   "source": [
    "data.dtypes"
   ]
  },
  {
   "cell_type": "code",
   "execution_count": 10,
   "id": "based-casino",
   "metadata": {},
   "outputs": [
    {
     "data": {
      "text/plain": [
       "array(['Рекомендации по работе на компьютере',\n",
       "       'Рекомендации по работе на смартфоне',\n",
       "       'Рекомендации по работе на планшете',\n",
       "       'Рекомендации по созданию и хранению безопасных паролей',\n",
       "       'Рекомендации по обновлению железа'], dtype=object)"
      ]
     },
     "execution_count": 10,
     "metadata": {},
     "output_type": "execute_result"
    }
   ],
   "source": [
    "ServiceName= data['ServiceName'].values\n",
    "ServiceName[0:5]"
   ]
  },
  {
   "cell_type": "code",
   "execution_count": 12,
   "id": "buried-reach",
   "metadata": {},
   "outputs": [
    {
     "data": {
      "text/plain": [
       "array(['2,000.00', '2,000.00', '2,000.00', '2,000.00', '2,000.00'],\n",
       "      dtype=object)"
      ]
     },
     "execution_count": 12,
     "metadata": {},
     "output_type": "execute_result"
    }
   ],
   "source": [
    "ServicePrice= data['ServicePrice'].values\n",
    "ServicePrice[0:5]"
   ]
  },
  {
   "cell_type": "code",
   "execution_count": 13,
   "id": "located-lender",
   "metadata": {},
   "outputs": [
    {
     "data": {
      "text/plain": [
       "array(['Рекомендации', 'Рекомендации', 'Рекомендации', 'Рекомендации',\n",
       "       'Рекомендации'], dtype=object)"
      ]
     },
     "execution_count": 13,
     "metadata": {},
     "output_type": "execute_result"
    }
   ],
   "source": [
    "ServiceType= data['ServiceType'].values\n",
    "ServiceType[0:5]"
   ]
  },
  {
   "cell_type": "code",
   "execution_count": 14,
   "id": "generic-stations",
   "metadata": {},
   "outputs": [
    {
     "data": {
      "text/plain": [
       "array(['Рекомендации по безопасной работе в сети Интернет',\n",
       "       'Рекомендации по безопасной работе в сети Интернет',\n",
       "       'Рекомендации по безопасной работе в сети Интернет',\n",
       "       'Подбор рекомендаций с учётом ситуации',\n",
       "       'Подбор рекомендаций с учётом ситуации'], dtype=object)"
      ]
     },
     "execution_count": 14,
     "metadata": {},
     "output_type": "execute_result"
    }
   ],
   "source": [
    "ServiceDescription= data['ServiceDescription'].values\n",
    "ServiceDescription[0:5]"
   ]
  },
  {
   "cell_type": "code",
   "execution_count": 15,
   "id": "russian-brunei",
   "metadata": {},
   "outputs": [
    {
     "data": {
      "text/plain": [
       "array([3, 3, 3, 3, 3], dtype=int64)"
      ]
     },
     "execution_count": 15,
     "metadata": {},
     "output_type": "execute_result"
    }
   ],
   "source": [
    "Time= data['Time'].values\n",
    "Time[0:5]"
   ]
  },
  {
   "cell_type": "code",
   "execution_count": 16,
   "id": "stable-steel",
   "metadata": {},
   "outputs": [
    {
     "data": {
      "text/plain": [
       "array([0, 0, 0, 0, 0], dtype=int64)"
      ]
     },
     "execution_count": 16,
     "metadata": {},
     "output_type": "execute_result"
    }
   ],
   "source": [
    "Guarantee= data['Guarantee'].values\n",
    "Guarantee[0:5]"
   ]
  },
  {
   "cell_type": "code",
   "execution_count": 18,
   "id": "black-publisher",
   "metadata": {},
   "outputs": [
    {
     "name": "stdout",
     "output_type": "stream",
     "text": [
      "Wall time: 8.27 ms\n"
     ]
    },
    {
     "data": {
      "text/plain": [
       "<51x140 sparse matrix of type '<class 'numpy.float64'>'\n",
       "\twith 230 stored elements in Compressed Sparse Row format>"
      ]
     },
     "execution_count": 18,
     "metadata": {},
     "output_type": "execute_result"
    }
   ],
   "source": [
    "%%time\n",
    "tfidfv = TfidfVectorizer()\n",
    "matrix = tfidfv.fit_transform(ServiceName)\n",
    "matrix"
   ]
  },
  {
   "cell_type": "code",
   "execution_count": 53,
   "id": "engaged-concrete",
   "metadata": {},
   "outputs": [],
   "source": [
    "class SimpleKNNRecommender:\n",
    "    \n",
    "    def __init__(self, X_matrix, X_ServiceType, X_ServiceName, X_ServicePrice, X_Time, X_Guarantee):\n",
    "        \"\"\"\n",
    "        Входные параметры:\n",
    "        X_matrix - обучающая выборка (матрица объект-признак)\n",
    "        \"\"\"\n",
    "        #Сохраняем параметры в переменных объекта\n",
    "        self._X_matrix = X_matrix\n",
    "        self.df = pd.DataFrame(\n",
    "            {'ServiceType': pd.Series(X_ServiceType, dtype='str'),\n",
    "            'ServiceName': pd.Series(X_ServiceName, dtype='str'),\n",
    "            'ServicePrice': pd.Series(X_ServicePrice, dtype='str'),\n",
    "            'Time': pd.Series(X_Time, dtype='int64'),\n",
    "            'Guarantee': pd.Series(X_Guarantee, dtype='int64'),\n",
    "            'dist': pd.Series([], dtype='float')})\n",
    "            \n",
    "            \n",
    "    def recommend_for_single_object(self, K: int, \\\n",
    "                X_matrix_object, cos_flag = True, manh_flag = False):\n",
    "        \"\"\"\n",
    "        Метод формирования рекомендаций для одного объекта.\n",
    "        Входные параметры:\n",
    "        K - количество рекомендуемых соседей \n",
    "        X_matrix_object - строка матрицы объект-признак, соответствующая объекту\n",
    "        cos_flag - флаг вычисления косинусного расстояния\n",
    "        manh_flag - флаг вычисления манхэттэнского расстояния\n",
    "        Возвращаемое значение: K найденных соседей\n",
    "        \"\"\"\n",
    "        \n",
    "        scale = 1000000\n",
    "        # Вычисляем косинусную близость\n",
    "        if cos_flag:\n",
    "            dist = cosine_similarity(self._X_matrix, X_matrix_object)\n",
    "            self.df['dist'] = dist * scale\n",
    "            res = self.df.sort_values(by='dist', ascending=False)\n",
    "            # Не учитываем рекомендации с единичным расстоянием,\n",
    "            # так как это искомый объект\n",
    "            res = res[res['dist'] < scale]\n",
    "        \n",
    "        else:\n",
    "            if manh_flag:\n",
    "                dist = manhattan_distances(self._X_matrix, X_matrix_object)\n",
    "            else:\n",
    "                dist = euclidean_distances(self._X_matrix, X_matrix_object)\n",
    "            self.df['dist'] = dist * scale\n",
    "            res = self.df.sort_values(by='dist', ascending=True)\n",
    "            # Не учитываем рекомендации с единичным расстоянием,\n",
    "            # так как это искомый объект\n",
    "            res = res[res['dist'] > 0.0]            \n",
    "        \n",
    "        # Оставляем К первых рекомендаций\n",
    "        res = res.head(K)\n",
    "        return res"
   ]
  },
  {
   "cell_type": "code",
   "execution_count": 54,
   "id": "accomplished-cinema",
   "metadata": {},
   "outputs": [
    {
     "data": {
      "text/plain": [
       "'Диагностика на наличие угроз и вредоносных программ'"
      ]
     },
     "execution_count": 54,
     "metadata": {},
     "output_type": "execute_result"
    }
   ],
   "source": [
    "ServiceName[5]"
   ]
  },
  {
   "cell_type": "code",
   "execution_count": 55,
   "id": "confident-bishop",
   "metadata": {},
   "outputs": [
    {
     "data": {
      "text/plain": [
       "<1x140 sparse matrix of type '<class 'numpy.float64'>'\n",
       "\twith 6 stored elements in Compressed Sparse Row format>"
      ]
     },
     "execution_count": 55,
     "metadata": {},
     "output_type": "execute_result"
    }
   ],
   "source": [
    "mc_matrix = matrix[5]\n",
    "mc_matrix"
   ]
  },
  {
   "cell_type": "code",
   "execution_count": 56,
   "id": "separate-hypothetical",
   "metadata": {},
   "outputs": [],
   "source": [
    "skr1 = SimpleKNNRecommender(matrix, ServiceType, ServiceName, ServicePrice, Time, Guarantee)"
   ]
  },
  {
   "cell_type": "code",
   "execution_count": 57,
   "id": "variable-phoenix",
   "metadata": {},
   "outputs": [
    {
     "data": {
      "text/html": [
       "<div>\n",
       "<style scoped>\n",
       "    .dataframe tbody tr th:only-of-type {\n",
       "        vertical-align: middle;\n",
       "    }\n",
       "\n",
       "    .dataframe tbody tr th {\n",
       "        vertical-align: top;\n",
       "    }\n",
       "\n",
       "    .dataframe thead th {\n",
       "        text-align: right;\n",
       "    }\n",
       "</style>\n",
       "<table border=\"1\" class=\"dataframe\">\n",
       "  <thead>\n",
       "    <tr style=\"text-align: right;\">\n",
       "      <th></th>\n",
       "      <th>ServiceType</th>\n",
       "      <th>ServiceName</th>\n",
       "      <th>ServicePrice</th>\n",
       "      <th>Time</th>\n",
       "      <th>Guarantee</th>\n",
       "      <th>dist</th>\n",
       "    </tr>\n",
       "  </thead>\n",
       "  <tbody>\n",
       "    <tr>\n",
       "      <th>8</th>\n",
       "      <td>Безопасность</td>\n",
       "      <td>Диагностика носителей информации</td>\n",
       "      <td>5,000.00</td>\n",
       "      <td>5</td>\n",
       "      <td>30</td>\n",
       "      <td>187121.557424</td>\n",
       "    </tr>\n",
       "    <tr>\n",
       "      <th>6</th>\n",
       "      <td>Безопасность</td>\n",
       "      <td>Диагностика драйверов устройств</td>\n",
       "      <td>5,000.00</td>\n",
       "      <td>5</td>\n",
       "      <td>30</td>\n",
       "      <td>176100.595031</td>\n",
       "    </tr>\n",
       "    <tr>\n",
       "      <th>12</th>\n",
       "      <td>Безопасность</td>\n",
       "      <td>Удаление угроз и восстановление работоспособно...</td>\n",
       "      <td>6,000.00</td>\n",
       "      <td>7</td>\n",
       "      <td>30</td>\n",
       "      <td>158978.576400</td>\n",
       "    </tr>\n",
       "    <tr>\n",
       "      <th>11</th>\n",
       "      <td>Безопасность</td>\n",
       "      <td>Удаление угроз и восстановление работоспособно...</td>\n",
       "      <td>6,000.00</td>\n",
       "      <td>7</td>\n",
       "      <td>30</td>\n",
       "      <td>158978.576400</td>\n",
       "    </tr>\n",
       "    <tr>\n",
       "      <th>7</th>\n",
       "      <td>Безопасность</td>\n",
       "      <td>Диагностика параметров безопасности ПК</td>\n",
       "      <td>5,000.00</td>\n",
       "      <td>5</td>\n",
       "      <td>30</td>\n",
       "      <td>153687.581216</td>\n",
       "    </tr>\n",
       "  </tbody>\n",
       "</table>\n",
       "</div>"
      ],
      "text/plain": [
       "     ServiceType                                        ServiceName  \\\n",
       "8   Безопасность                   Диагностика носителей информации   \n",
       "6   Безопасность                    Диагностика драйверов устройств   \n",
       "12  Безопасность  Удаление угроз и восстановление работоспособно...   \n",
       "11  Безопасность  Удаление угроз и восстановление работоспособно...   \n",
       "7   Безопасность             Диагностика параметров безопасности ПК   \n",
       "\n",
       "   ServicePrice  Time  Guarantee           dist  \n",
       "8      5,000.00     5         30  187121.557424  \n",
       "6      5,000.00     5         30  176100.595031  \n",
       "12     6,000.00     7         30  158978.576400  \n",
       "11     6,000.00     7         30  158978.576400  \n",
       "7      5,000.00     5         30  153687.581216  "
      ]
     },
     "execution_count": 57,
     "metadata": {},
     "output_type": "execute_result"
    }
   ],
   "source": [
    "rec1 = skr1.recommend_for_single_object(5, mc_matrix)\n",
    "rec1"
   ]
  },
  {
   "cell_type": "code",
   "execution_count": 58,
   "id": "standard-crossing",
   "metadata": {},
   "outputs": [
    {
     "data": {
      "text/html": [
       "<div>\n",
       "<style scoped>\n",
       "    .dataframe tbody tr th:only-of-type {\n",
       "        vertical-align: middle;\n",
       "    }\n",
       "\n",
       "    .dataframe tbody tr th {\n",
       "        vertical-align: top;\n",
       "    }\n",
       "\n",
       "    .dataframe thead th {\n",
       "        text-align: right;\n",
       "    }\n",
       "</style>\n",
       "<table border=\"1\" class=\"dataframe\">\n",
       "  <thead>\n",
       "    <tr style=\"text-align: right;\">\n",
       "      <th></th>\n",
       "      <th>ServiceType</th>\n",
       "      <th>ServiceName</th>\n",
       "      <th>ServicePrice</th>\n",
       "      <th>Time</th>\n",
       "      <th>Guarantee</th>\n",
       "      <th>dist</th>\n",
       "    </tr>\n",
       "  </thead>\n",
       "  <tbody>\n",
       "    <tr>\n",
       "      <th>8</th>\n",
       "      <td>Безопасность</td>\n",
       "      <td>Диагностика носителей информации</td>\n",
       "      <td>5,000.00</td>\n",
       "      <td>5</td>\n",
       "      <td>30</td>\n",
       "      <td>1.275052e+06</td>\n",
       "    </tr>\n",
       "    <tr>\n",
       "      <th>6</th>\n",
       "      <td>Безопасность</td>\n",
       "      <td>Диагностика драйверов устройств</td>\n",
       "      <td>5,000.00</td>\n",
       "      <td>5</td>\n",
       "      <td>30</td>\n",
       "      <td>1.283666e+06</td>\n",
       "    </tr>\n",
       "    <tr>\n",
       "      <th>12</th>\n",
       "      <td>Безопасность</td>\n",
       "      <td>Удаление угроз и восстановление работоспособно...</td>\n",
       "      <td>6,000.00</td>\n",
       "      <td>7</td>\n",
       "      <td>30</td>\n",
       "      <td>1.296936e+06</td>\n",
       "    </tr>\n",
       "    <tr>\n",
       "      <th>11</th>\n",
       "      <td>Безопасность</td>\n",
       "      <td>Удаление угроз и восстановление работоспособно...</td>\n",
       "      <td>6,000.00</td>\n",
       "      <td>7</td>\n",
       "      <td>30</td>\n",
       "      <td>1.296936e+06</td>\n",
       "    </tr>\n",
       "    <tr>\n",
       "      <th>7</th>\n",
       "      <td>Безопасность</td>\n",
       "      <td>Диагностика параметров безопасности ПК</td>\n",
       "      <td>5,000.00</td>\n",
       "      <td>5</td>\n",
       "      <td>30</td>\n",
       "      <td>1.301009e+06</td>\n",
       "    </tr>\n",
       "  </tbody>\n",
       "</table>\n",
       "</div>"
      ],
      "text/plain": [
       "     ServiceType                                        ServiceName  \\\n",
       "8   Безопасность                   Диагностика носителей информации   \n",
       "6   Безопасность                    Диагностика драйверов устройств   \n",
       "12  Безопасность  Удаление угроз и восстановление работоспособно...   \n",
       "11  Безопасность  Удаление угроз и восстановление работоспособно...   \n",
       "7   Безопасность             Диагностика параметров безопасности ПК   \n",
       "\n",
       "   ServicePrice  Time  Guarantee          dist  \n",
       "8      5,000.00     5         30  1.275052e+06  \n",
       "6      5,000.00     5         30  1.283666e+06  \n",
       "12     6,000.00     7         30  1.296936e+06  \n",
       "11     6,000.00     7         30  1.296936e+06  \n",
       "7      5,000.00     5         30  1.301009e+06  "
      ]
     },
     "execution_count": 58,
     "metadata": {},
     "output_type": "execute_result"
    }
   ],
   "source": [
    "# При поиске с помощью Евклидова расстояния \n",
    "rec2 = skr1.recommend_for_single_object(5, mc_matrix, cos_flag = False)\n",
    "rec2"
   ]
  },
  {
   "cell_type": "code",
   "execution_count": 59,
   "id": "announced-complement",
   "metadata": {},
   "outputs": [
    {
     "data": {
      "text/html": [
       "<div>\n",
       "<style scoped>\n",
       "    .dataframe tbody tr th:only-of-type {\n",
       "        vertical-align: middle;\n",
       "    }\n",
       "\n",
       "    .dataframe tbody tr th {\n",
       "        vertical-align: top;\n",
       "    }\n",
       "\n",
       "    .dataframe thead th {\n",
       "        text-align: right;\n",
       "    }\n",
       "</style>\n",
       "<table border=\"1\" class=\"dataframe\">\n",
       "  <thead>\n",
       "    <tr style=\"text-align: right;\">\n",
       "      <th></th>\n",
       "      <th>ServiceType</th>\n",
       "      <th>ServiceName</th>\n",
       "      <th>ServicePrice</th>\n",
       "      <th>Time</th>\n",
       "      <th>Guarantee</th>\n",
       "      <th>dist</th>\n",
       "    </tr>\n",
       "  </thead>\n",
       "  <tbody>\n",
       "    <tr>\n",
       "      <th>6</th>\n",
       "      <td>Безопасность</td>\n",
       "      <td>Диагностика драйверов устройств</td>\n",
       "      <td>5,000.00</td>\n",
       "      <td>5</td>\n",
       "      <td>30</td>\n",
       "      <td>3.410604e+06</td>\n",
       "    </tr>\n",
       "    <tr>\n",
       "      <th>8</th>\n",
       "      <td>Безопасность</td>\n",
       "      <td>Диагностика носителей информации</td>\n",
       "      <td>5,000.00</td>\n",
       "      <td>5</td>\n",
       "      <td>30</td>\n",
       "      <td>3.411415e+06</td>\n",
       "    </tr>\n",
       "    <tr>\n",
       "      <th>7</th>\n",
       "      <td>Безопасность</td>\n",
       "      <td>Диагностика параметров безопасности ПК</td>\n",
       "      <td>5,000.00</td>\n",
       "      <td>5</td>\n",
       "      <td>30</td>\n",
       "      <td>3.679674e+06</td>\n",
       "    </tr>\n",
       "    <tr>\n",
       "      <th>26</th>\n",
       "      <td>IT-аутсорсинг</td>\n",
       "      <td>ИТ-аудит</td>\n",
       "      <td>25,000.00</td>\n",
       "      <td>21</td>\n",
       "      <td>90</td>\n",
       "      <td>3.818181e+06</td>\n",
       "    </tr>\n",
       "    <tr>\n",
       "      <th>49</th>\n",
       "      <td>IT-аутсорсинг</td>\n",
       "      <td>Обслуживание оргтехники</td>\n",
       "      <td>24,000.00</td>\n",
       "      <td>21</td>\n",
       "      <td>120</td>\n",
       "      <td>3.823334e+06</td>\n",
       "    </tr>\n",
       "  </tbody>\n",
       "</table>\n",
       "</div>"
      ],
      "text/plain": [
       "      ServiceType                             ServiceName ServicePrice  Time  \\\n",
       "6    Безопасность         Диагностика драйверов устройств     5,000.00     5   \n",
       "8    Безопасность        Диагностика носителей информации     5,000.00     5   \n",
       "7    Безопасность  Диагностика параметров безопасности ПК     5,000.00     5   \n",
       "26  IT-аутсорсинг                               ИТ-аудит     25,000.00    21   \n",
       "49  IT-аутсорсинг                 Обслуживание оргтехники    24,000.00    21   \n",
       "\n",
       "    Guarantee          dist  \n",
       "6          30  3.410604e+06  \n",
       "8          30  3.411415e+06  \n",
       "7          30  3.679674e+06  \n",
       "26         90  3.818181e+06  \n",
       "49        120  3.823334e+06  "
      ]
     },
     "execution_count": 59,
     "metadata": {},
     "output_type": "execute_result"
    }
   ],
   "source": [
    "# Манхэттэнское расстояние\n",
    "rec3 = skr1.recommend_for_single_object(5, mc_matrix, \n",
    "                                        cos_flag = False, manh_flag = True)\n",
    "rec3"
   ]
  },
  {
   "cell_type": "code",
   "execution_count": null,
   "id": "earned-exemption",
   "metadata": {},
   "outputs": [],
   "source": []
  }
 ],
 "metadata": {
  "kernelspec": {
   "display_name": "Python 3",
   "language": "python",
   "name": "python3"
  },
  "language_info": {
   "codemirror_mode": {
    "name": "ipython",
    "version": 3
   },
   "file_extension": ".py",
   "mimetype": "text/x-python",
   "name": "python",
   "nbconvert_exporter": "python",
   "pygments_lexer": "ipython3",
   "version": "3.7.0"
  }
 },
 "nbformat": 4,
 "nbformat_minor": 5
}
